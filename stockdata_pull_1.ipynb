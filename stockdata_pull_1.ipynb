{
 "cells": [
  {
   "cell_type": "code",
   "execution_count": 6,
   "metadata": {},
   "outputs": [
    {
     "data": {
      "application/javascript": [
       "IPython.notebook.set_autosave_interval(0)"
      ]
     },
     "metadata": {},
     "output_type": "display_data"
    },
    {
     "name": "stdout",
     "output_type": "stream",
     "text": [
      "Autosave disabled\n"
     ]
    }
   ],
   "source": [
    "%autosave 0"
   ]
  },
  {
   "cell_type": "code",
   "execution_count": 7,
   "metadata": {},
   "outputs": [],
   "source": [
    "# Dependencies\n",
    "import matplotlib.pyplot as plt\n",
    "import requests\n",
    "from scipy import stats\n",
    "from scipy.stats import linregress\n",
    "import pandas as pd\n",
    "from config import api_key"
   ]
  },
  {
   "cell_type": "code",
   "execution_count": 8,
   "metadata": {},
   "outputs": [
    {
     "data": {
      "text/plain": [
       "{'meta': {'requested': 3, 'returned': 3},\n",
       " 'data': [{'ticker': 'TSLA',\n",
       "   'name': 'Tesla Inc',\n",
       "   'exchange_short': 'NASDAQ',\n",
       "   'exchange_long': 'NASDAQ Stock Exchange',\n",
       "   'mic_code': 'XNAS',\n",
       "   'currency': 'USD',\n",
       "   'price': 160.66,\n",
       "   'day_high': 163.45,\n",
       "   'day_low': 158.81,\n",
       "   'day_open': 159.84,\n",
       "   '52_week_high': 333.33,\n",
       "   '52_week_low': 101.81,\n",
       "   'market_cap': 509243555840,\n",
       "   'previous_close_price': 162.58,\n",
       "   'previous_close_price_time': '2023-04-24T15:59:59.000000',\n",
       "   'day_change': -1.2,\n",
       "   'volume': 539958,\n",
       "   'is_extended_hours_price': False,\n",
       "   'last_trade_time': '2023-04-25T15:59:58.000000'},\n",
       "  {'ticker': 'MSFT',\n",
       "   'name': 'Microsoft Corporation',\n",
       "   'exchange_short': 'NASDAQ',\n",
       "   'exchange_long': 'NASDAQ Stock Exchange',\n",
       "   'mic_code': 'XNAS',\n",
       "   'currency': 'USD',\n",
       "   'price': 275.52,\n",
       "   'day_high': 281.48,\n",
       "   'day_low': 275.44,\n",
       "   'day_open': 279.43,\n",
       "   '52_week_high': 294.18,\n",
       "   '52_week_low': 213.43,\n",
       "   'market_cap': 2050171469824,\n",
       "   'previous_close_price': 281.88,\n",
       "   'previous_close_price_time': '2023-04-24T15:59:59.000000',\n",
       "   'day_change': -2.31,\n",
       "   'volume': 646657,\n",
       "   'is_extended_hours_price': False,\n",
       "   'last_trade_time': '2023-04-25T15:59:59.000000'},\n",
       "  {'ticker': 'AAPL',\n",
       "   'name': 'Apple Inc',\n",
       "   'exchange_short': 'NASDAQ',\n",
       "   'exchange_long': 'NASDAQ Stock Exchange',\n",
       "   'mic_code': 'XNAS',\n",
       "   'currency': 'USD',\n",
       "   'price': 163.79,\n",
       "   'day_high': 166.29,\n",
       "   'day_low': 163.73,\n",
       "   'day_open': 165.12,\n",
       "   '52_week_high': 176.15,\n",
       "   '52_week_low': 124.17,\n",
       "   'market_cap': 2596033003520,\n",
       "   'previous_close_price': 165.3,\n",
       "   'previous_close_price_time': '2023-04-24T15:59:57.000000',\n",
       "   'day_change': -0.92,\n",
       "   'volume': 490133,\n",
       "   'is_extended_hours_price': False,\n",
       "   'last_trade_time': '2023-04-25T15:59:59.000000'}]}"
      ]
     },
     "execution_count": 8,
     "metadata": {},
     "output_type": "execute_result"
    }
   ],
   "source": [
    "\n",
    "url = \"https://api.stockdata.org/v1/data/quote?symbols=AAPL,TSLA,MSFT&api_token=\"\n",
    "\n",
    "# Get country information in JSON format\n",
    "stock_response = requests.get(f\"{url}{api_key}\").json()\n",
    "\n",
    "# First element is general information, second is countries themselves\n",
    "stock_response"
   ]
  },
  {
   "cell_type": "code",
   "execution_count": 11,
   "metadata": {},
   "outputs": [
    {
     "data": {
      "text/plain": [
       "{'data': [None]}"
      ]
     },
     "execution_count": 11,
     "metadata": {},
     "output_type": "execute_result"
    }
   ],
   "source": [
    "# get the industry list\n",
    "url2 = \"https://api.stockdata.org/v1/entity/industry/list?api_token=\"\n",
    "\n",
    "# Get country information in JSON format\n",
    "industries_response = requests.get(f\"{url2}{api_key}\").json()\n",
    "\n",
    "# First element is general information, second is countries themselves\n",
    "industries_response"
   ]
  },
  {
   "cell_type": "code",
   "execution_count": 13,
   "metadata": {},
   "outputs": [
    {
     "data": {
      "text/plain": [
       "{'data': [{'ticker': 'AAPL',\n",
       "   'address1': 'One Apple Park Way',\n",
       "   'address2': None,\n",
       "   'address3': None,\n",
       "   'address4': None,\n",
       "   'address5': None,\n",
       "   'city': 'Cupertino',\n",
       "   'state': 'CA',\n",
       "   'zip': '95014',\n",
       "   'country': 'United States',\n",
       "   'phone': '408-996-1010',\n",
       "   'website': 'http://www.apple.com',\n",
       "   'industry': 'Consumer Electronics',\n",
       "   'sector': 'Technology',\n",
       "   'full_time_employees': 147000,\n",
       "   'description': 'Apple Inc. designs, manufactures, and markets smartphones, personal computers, tablets, wearables, and accessories worldwide. It also sells various related services. The company offers iPhone, a line of smartphones; Mac, a line of personal computers; iPad, a line of multi-purpose tablets; and wearables, home, and accessories comprising AirPods, Apple TV, Apple Watch, Beats products, HomePod, iPod touch, and other Apple-branded and third-party accessories. It also provides AppleCare support services; cloud services store services; and operates various platforms, including the App Store, that allow customers to discover and download applications and digital content, such as books, music, video, games, and podcasts. In addition, the company offers various services, such as Apple Arcade, a game subscription service; Apple Music, which offers users a curated listening experience with on-demand radio stations; Apple News+, a subscription news and magazine service; Apple TV+, which offers exclusive original content; Apple Card, a co-branded credit card; and Apple Pay, a cashless payment service, as well as licenses its intellectual property. The company serves consumers, and small and mid-sized businesses; and the education, enterprise, and government markets. It sells and delivers third-party applications for its products through the App Store. The company also sells its products through its retail and online stores, and direct sales force; and third-party cellular network carriers, wholesalers, retailers, and resellers. Apple Inc. was founded in 1977 and is headquartered in Cupertino, California.'}]}"
      ]
     },
     "execution_count": 13,
     "metadata": {},
     "output_type": "execute_result"
    }
   ],
   "source": [
    "# get the company files\n",
    "url3= \"https://api.stockdata.org/v1/entity/\"\n",
    "companySymbol =\"AAPL\"\n",
    "# Get country information in JSON format\n",
    "industries_response = requests.get(f\"{url3}profile?symbols={companySymbol}&api_token={api_key}\").json()\n",
    "\n",
    "# First element is general information, second is countries themselves\n",
    "industries_response"
   ]
  },
  {
   "cell_type": "code",
   "execution_count": 19,
   "metadata": {},
   "outputs": [],
   "source": [
    "industries = []"
   ]
  },
  {
   "cell_type": "code",
   "execution_count": 20,
   "metadata": {},
   "outputs": [
    {
     "data": {
      "text/plain": [
       "['Consumer Electronics']"
      ]
     },
     "execution_count": 20,
     "metadata": {},
     "output_type": "execute_result"
    }
   ],
   "source": [
    "industry = industries_response['data'][0]['industry']\n",
    "industries.append(industry)\n",
    "industries"
   ]
  },
  {
   "cell_type": "code",
   "execution_count": null,
   "metadata": {},
   "outputs": [],
   "source": []
  }
 ],
 "metadata": {
  "kernelspec": {
   "display_name": "PythonData",
   "language": "python",
   "name": "pythondata"
  },
  "language_info": {
   "codemirror_mode": {
    "name": "ipython",
    "version": 3
   },
   "file_extension": ".py",
   "mimetype": "text/x-python",
   "name": "python",
   "nbconvert_exporter": "python",
   "pygments_lexer": "ipython3",
   "version": "3.9.16"
  }
 },
 "nbformat": 4,
 "nbformat_minor": 2
}
